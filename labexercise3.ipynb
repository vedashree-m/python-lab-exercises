{
  "nbformat": 4,
  "nbformat_minor": 0,
  "metadata": {
    "colab": {
      "provenance": []
    },
    "kernelspec": {
      "name": "python3",
      "display_name": "Python 3"
    },
    "language_info": {
      "name": "python"
    }
  },
  "cells": [
    {
      "cell_type": "code",
      "execution_count": 1,
      "metadata": {
        "colab": {
          "base_uri": "https://localhost:8080/"
        },
        "id": "Vzh2rKgvRB6j",
        "outputId": "51b80957-1d59-4704-8c5e-41e635c1f587"
      },
      "outputs": [
        {
          "output_type": "stream",
          "name": "stdout",
          "text": [
            "   Numerical_Column1  Numerical_Column2 Categorical_Column1  \\\n",
            "0                1.2           3.566667                   A   \n",
            "1                2.3           3.400000                   A   \n",
            "2                3.4           2.200000                   B   \n",
            "3                4.5           3.566667                   A   \n",
            "4                5.6           5.100000                   B   \n",
            "\n",
            "  Categorical_Column2  \n",
            "0                   X  \n",
            "1                   X  \n",
            "2                   X  \n",
            "3                   Y  \n",
            "4                   Y  \n"
          ]
        },
        {
          "output_type": "stream",
          "name": "stderr",
          "text": [
            "<ipython-input-1-9b4d4d16fb28>:18: FutureWarning: A value is trying to be set on a copy of a DataFrame or Series through chained assignment using an inplace method.\n",
            "The behavior will change in pandas 3.0. This inplace method will never work because the intermediate object on which we are setting values always behaves as a copy.\n",
            "\n",
            "For example, when doing 'df[col].method(value, inplace=True)', try using 'df.method({col: value}, inplace=True)' or df[col] = df[col].method(value) instead, to perform the operation inplace on the original object.\n",
            "\n",
            "\n",
            "  df[col].fillna(df[col].mean(), inplace=True)\n",
            "<ipython-input-1-9b4d4d16fb28>:23: FutureWarning: A value is trying to be set on a copy of a DataFrame or Series through chained assignment using an inplace method.\n",
            "The behavior will change in pandas 3.0. This inplace method will never work because the intermediate object on which we are setting values always behaves as a copy.\n",
            "\n",
            "For example, when doing 'df[col].method(value, inplace=True)', try using 'df.method({col: value}, inplace=True)' or df[col] = df[col].method(value) instead, to perform the operation inplace on the original object.\n",
            "\n",
            "\n",
            "  df[col].fillna(df[col].mode()[0], inplace=True)\n"
          ]
        }
      ],
      "source": [
        "#handling missing values\n",
        "\n",
        "import pandas as pd\n",
        "import numpy as np\n",
        "\n",
        "\n",
        "data = {\n",
        "    'Numerical_Column1': [1.2, 2.3, np.nan, 4.5, 5.6],\n",
        "    'Numerical_Column2': [np.nan, 3.4, 2.2, np.nan, 5.1],\n",
        "    'Categorical_Column1': ['A', np.nan, 'B', 'A', 'B'],\n",
        "    'Categorical_Column2': [np.nan, 'X', 'X', 'Y', 'Y']\n",
        "}\n",
        "\n",
        "df = pd.DataFrame(data)\n",
        "\n",
        "# Filling missing values in numerical columns with the mean\n",
        "numerical_columns = df.select_dtypes(include=['number']).columns\n",
        "for col in numerical_columns:\n",
        "    df[col].fillna(df[col].mean(), inplace=True)\n",
        "\n",
        "# Filling missing values in categorical columns with the most frequent value\n",
        "categorical_columns = df.select_dtypes(include=['object', 'category']).columns\n",
        "for col in categorical_columns:\n",
        "    df[col].fillna(df[col].mode()[0], inplace=True)\n",
        "\n",
        "print(df)\n"
      ]
    },
    {
      "cell_type": "code",
      "source": [
        "#removing duplicates\n",
        "\n",
        "import pandas as pd\n",
        "\n",
        "# Example dataset with duplicate rows\n",
        "data = {\n",
        "    'Column1': [1, 2, 3, 4, 2],\n",
        "    'Column2': ['A', 'B', 'C', 'D', 'B'],\n",
        "    'Column3': [10, 20, 30, 40, 20]\n",
        "}\n",
        "\n",
        "df = pd.DataFrame(data)\n",
        "\n",
        "print(\"Original Dataset:\")\n",
        "print(df)\n",
        "\n",
        "\n",
        "duplicates = df[df.duplicated()] #identify duplicate rows\n",
        "print(\"\\nDuplicate Rows:\")\n",
        "print(duplicates)\n",
        "\n",
        "\n",
        "df_no_duplicates = df.drop_duplicates() #removing duplicate rows\n",
        "\n",
        "print(\"\\nDataset After Removing Duplicates:\")\n",
        "print(df_no_duplicates)\n"
      ],
      "metadata": {
        "colab": {
          "base_uri": "https://localhost:8080/"
        },
        "id": "mDFfJxiTRUB9",
        "outputId": "45656104-da23-4a9c-e8b0-4a777f0eada0"
      },
      "execution_count": 2,
      "outputs": [
        {
          "output_type": "stream",
          "name": "stdout",
          "text": [
            "Original Dataset:\n",
            "   Column1 Column2  Column3\n",
            "0        1       A       10\n",
            "1        2       B       20\n",
            "2        3       C       30\n",
            "3        4       D       40\n",
            "4        2       B       20\n",
            "\n",
            "Duplicate Rows:\n",
            "   Column1 Column2  Column3\n",
            "4        2       B       20\n",
            "\n",
            "Dataset After Removing Duplicates:\n",
            "   Column1 Column2  Column3\n",
            "0        1       A       10\n",
            "1        2       B       20\n",
            "2        3       C       30\n",
            "3        4       D       40\n"
          ]
        }
      ]
    },
    {
      "cell_type": "code",
      "source": [
        "#handling outliersimport pandas as pd\n",
        "\n",
        "# Example dataset with incorrect data types\n",
        "data = {\n",
        "    'Age': ['25', '30', '22', '28', '35'],  # Stored as strings\n",
        "    'Salary': ['50000', '55000.50', '48000', '52000', '60000'],  # Stored as strings (with some floats)\n",
        "    'Name': ['Alice', 'Bob', 'Charlie', 'David', 'Eva'],  # Correct type (string)\n",
        "    'Join_Date': ['2023-01-15', '2022-12-10', '2020-05-20', '2019-03-11', '2021-07-25'],  # Stored as strings\n",
        "}\n",
        "\n",
        "df = pd.DataFrame(data)\n",
        "\n",
        "print(\"Original Dataset:\")\n",
        "print(df.info())\n",
        "\n",
        "# Function to convert columns to appropriate data types\n",
        "def convert_column_dtypes(df):\n",
        "    for column in df.columns:\n",
        "        # Try converting to numeric (int or float)\n",
        "        try:\n",
        "            df[column] = pd.to_numeric(df[column], errors='coerce')  # Convert to numeric, invalid entries become NaN\n",
        "        except ValueError:\n",
        "            pass\n",
        "\n",
        "        # Try converting to datetime for columns with date-like strings\n",
        "        if df[column].dtype == 'object':  # Check if column is still of type object\n",
        "            try:\n",
        "                df[column] = pd.to_datetime(df[column], errors='coerce')  # Convert to datetime\n",
        "            except ValueError:\n",
        "                pass\n",
        "\n",
        "    return df\n",
        "\n",
        "# Apply the function to the dataset\n",
        "df = convert_column_dtypes(df)\n",
        "\n",
        "print(\"\\nDataset After Converting Data Types:\")\n",
        "print(df.info())\n",
        "print(df)\n",
        "\n",
        "\n"
      ],
      "metadata": {
        "colab": {
          "base_uri": "https://localhost:8080/"
        },
        "id": "BQMcBWdQR1fj",
        "outputId": "33f4b6b6-33e2-4057-9e88-d599254f3b68"
      },
      "execution_count": 3,
      "outputs": [
        {
          "output_type": "stream",
          "name": "stdout",
          "text": [
            "Original Dataset:\n",
            "      Name  Age   Salary\n",
            "0    Alice   25    50000\n",
            "1      Bob   30    55000\n",
            "2  Charlie   22    48000\n",
            "3    David   28    52000\n",
            "4      Eva  120  2000000\n",
            "\n",
            "Dataset After Removing Outliers:\n",
            "      Name  Age   Salary\n",
            "0    Alice   25    50000\n",
            "1      Bob   30    55000\n",
            "2  Charlie   22    48000\n",
            "3    David   28    52000\n",
            "4      Eva  120  2000000\n"
          ]
        }
      ]
    },
    {
      "cell_type": "code",
      "source": [
        "import pandas as pd\n",
        "\n",
        "# Example dataset with incorrect data types\n",
        "data = {\n",
        "    'Age': ['25', '30', '22', '28', '35'],  # Stored as strings\n",
        "    'Salary': ['50000', '55000.50', '48000', '52000', '60000'],  # Stored as strings (with some floats)\n",
        "    'Name': ['Alice', 'Bob', 'Charlie', 'David', 'Eva'],  # Correct type (string)\n",
        "    'Join_Date': ['2023-01-15', '2022-12-10', '2020-05-20', '2019-03-11', '2021-07-25'],  # Stored as strings\n",
        "}\n",
        "\n",
        "df = pd.DataFrame(data)\n",
        "\n",
        "print(\"Original Dataset:\")\n",
        "print(df.info())\n",
        "\n",
        "# Function to convert columns to appropriate data types\n",
        "def convert_column_dtypes(df):\n",
        "    for column in df.columns:\n",
        "        # Try converting to numeric (int or float)\n",
        "        try:\n",
        "            df[column] = pd.to_numeric(df[column], errors='coerce')  # Convert to numeric, invalid entries become NaN\n",
        "        except ValueError:\n",
        "            pass\n",
        "\n",
        "        # Try converting to datetime for columns with date-like strings\n",
        "        if df[column].dtype == 'object':  # Check if column is still of type object\n",
        "            try:\n",
        "                df[column] = pd.to_datetime(df[column], errors='coerce')  # Convert to datetime\n",
        "            except ValueError:\n",
        "                pass\n",
        "\n",
        "    return df\n",
        "\n",
        "# Apply the function to the dataset\n",
        "df = convert_column_dtypes(df)\n",
        "\n",
        "print(\"\\nDataset After Converting Data Types:\")\n",
        "print(df.info())\n",
        "print(df)\n"
      ],
      "metadata": {
        "colab": {
          "base_uri": "https://localhost:8080/"
        },
        "id": "1UhLPlbJUG97",
        "outputId": "32b871b8-9148-457c-b07d-0fd9ed77966d"
      },
      "execution_count": 4,
      "outputs": [
        {
          "output_type": "stream",
          "name": "stdout",
          "text": [
            "Original Dataset:\n",
            "<class 'pandas.core.frame.DataFrame'>\n",
            "RangeIndex: 5 entries, 0 to 4\n",
            "Data columns (total 4 columns):\n",
            " #   Column     Non-Null Count  Dtype \n",
            "---  ------     --------------  ----- \n",
            " 0   Age        5 non-null      object\n",
            " 1   Salary     5 non-null      object\n",
            " 2   Name       5 non-null      object\n",
            " 3   Join_Date  5 non-null      object\n",
            "dtypes: object(4)\n",
            "memory usage: 288.0+ bytes\n",
            "None\n",
            "\n",
            "Dataset After Converting Data Types:\n",
            "<class 'pandas.core.frame.DataFrame'>\n",
            "RangeIndex: 5 entries, 0 to 4\n",
            "Data columns (total 4 columns):\n",
            " #   Column     Non-Null Count  Dtype  \n",
            "---  ------     --------------  -----  \n",
            " 0   Age        5 non-null      int64  \n",
            " 1   Salary     5 non-null      float64\n",
            " 2   Name       0 non-null      float64\n",
            " 3   Join_Date  0 non-null      float64\n",
            "dtypes: float64(3), int64(1)\n",
            "memory usage: 288.0 bytes\n",
            "None\n",
            "   Age   Salary  Name  Join_Date\n",
            "0   25  50000.0   NaN        NaN\n",
            "1   30  55000.5   NaN        NaN\n",
            "2   22  48000.0   NaN        NaN\n",
            "3   28  52000.0   NaN        NaN\n",
            "4   35  60000.0   NaN        NaN\n"
          ]
        }
      ]
    },
    {
      "cell_type": "code",
      "source": [
        "import pandas as pd\n",
        "\n",
        "# Example dataset with a categorical column\n",
        "data = {\n",
        "    'Name': ['Alice', 'Bob', 'Charlie', 'David', 'Eva'],\n",
        "    'Department': ['HR', 'Finance', 'IT', 'HR', 'Finance'],  # Categorical column\n",
        "    'Salary': [50000, 55000, 48000, 52000, 60000]\n",
        "}\n",
        "\n",
        "df = pd.DataFrame(data)\n",
        "\n",
        "print(\"Original Dataset:\")\n",
        "print(df)\n",
        "\n",
        "# Perform one-hot encoding on the 'Department' column\n",
        "df_encoded = pd.get_dummies(df, columns=['Department'], prefix='Dept')\n",
        "\n",
        "print(\"\\nDataset After One-Hot Encoding:\")\n",
        "print(df_encoded)\n"
      ],
      "metadata": {
        "colab": {
          "base_uri": "https://localhost:8080/"
        },
        "id": "dIZJ-73mUp_v",
        "outputId": "ba416ee9-1066-4f46-9cb1-07bd532985e7"
      },
      "execution_count": 5,
      "outputs": [
        {
          "output_type": "stream",
          "name": "stdout",
          "text": [
            "Original Dataset:\n",
            "      Name Department  Salary\n",
            "0    Alice         HR   50000\n",
            "1      Bob    Finance   55000\n",
            "2  Charlie         IT   48000\n",
            "3    David         HR   52000\n",
            "4      Eva    Finance   60000\n",
            "\n",
            "Dataset After One-Hot Encoding:\n",
            "      Name  Salary  Dept_Finance  Dept_HR  Dept_IT\n",
            "0    Alice   50000         False     True    False\n",
            "1      Bob   55000          True    False    False\n",
            "2  Charlie   48000         False    False     True\n",
            "3    David   52000         False     True    False\n",
            "4      Eva   60000          True    False    False\n"
          ]
        }
      ]
    }
  ]
}